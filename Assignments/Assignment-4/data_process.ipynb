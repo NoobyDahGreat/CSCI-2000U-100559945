{
 "cells": [
  {
   "cell_type": "code",
   "execution_count": 49,
   "metadata": {
    "collapsed": false
   },
   "outputs": [],
   "source": [
    "##Brad Gardiner\n",
    "##100559945\n",
    "import struct\n",
    "with open('halo.dat', mode='rb') as f:\n",
    "    count = 0\n",
    "    data_halo = [];\n",
    "    content = f.read()\n",
    "    start = struct.unpack(\"iiiii\", content[:20])\n",
    "    body = struct.unpack(\"i\" * ((len(content) - 24) // 4), content[20:-4])\n",
    "    end = struct.unpack(\"i\", content[-4:])\n",
    "    for l in f:\n",
    "        if(count == 0):\n",
    "            N_halo = l\n",
    "            count +=1\n",
    "        elif (count == 1):\n",
    "            T_halo = l\n",
    "            count += 1\n",
    "        else:\n",
    "            data_halo.append(l)\n",
    "            \n",
    "\n",
    "v_halo = [];\n",
    "# for i in data_halo:\n",
    "\n",
    "#     v_halo.append()\n",
    "    "
   ]
  },
  {
   "cell_type": "code",
   "execution_count": null,
   "metadata": {
    "collapsed": true
   },
   "outputs": [],
   "source": []
  }
 ],
 "metadata": {
  "kernelspec": {
   "display_name": "Python 3",
   "language": "python",
   "name": "python3"
  },
  "language_info": {
   "codemirror_mode": {
    "name": "ipython",
    "version": 3
   },
   "file_extension": ".py",
   "mimetype": "text/x-python",
   "name": "python",
   "nbconvert_exporter": "python",
   "pygments_lexer": "ipython3",
   "version": "3.4.3"
  }
 },
 "nbformat": 4,
 "nbformat_minor": 0
}
