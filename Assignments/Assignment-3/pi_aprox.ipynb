{
 "cells": [
  {
   "cell_type": "code",
   "execution_count": 1,
   "metadata": {
    "collapsed": false
   },
   "outputs": [
    {
     "name": "stdout",
     "output_type": "stream",
     "text": [
      "When n =      10, rho_n =     3.041840\n",
      "When n =      10, tau_n =     3.049362\n",
      "When n =      10,  mu_n =     3.141385\n",
      "When n =     100, rho_n =     3.131593\n",
      "When n =     100, tau_n =     3.132077\n",
      "When n =     100,  mu_n =     3.141592\n",
      "When n =    1000, rho_n =     3.140593\n",
      "When n =    1000, tau_n =     3.140638\n",
      "When n =    1000,  mu_n =     3.141593\n",
      "When n =   10000, rho_n =     3.141493\n",
      "When n =   10000, tau_n =     3.141497\n",
      "When n =   10000,  mu_n =     3.141593\n",
      "When n =  100000, rho_n =     3.141583\n",
      "When n =  100000, tau_n =     3.141583\n",
      "When n =  100000,  mu_n =     3.141593\n"
     ]
    }
   ],
   "source": [
    "#Brad Gardiner\n",
    "#100559945\n",
    "def rho_n(n):\n",
    "    sum = 0\n",
    "    for i in range(1, n+1):\n",
    "        temp = 1/(2*i- 1)\n",
    "        if ((i+1)%2 == 0):\n",
    "            sum = sum + temp\n",
    "        else:\n",
    "            sum = sum - temp\n",
    "    sum = sum*4\n",
    "    return sum\n",
    "\n",
    "def tau_n(n):\n",
    "    sum = 0\n",
    "    for i in range(1, n+1):\n",
    "        sum = sum + (1/i**2)\n",
    "    return (sum*6)**0.5\n",
    "\n",
    "def mu_n(n):\n",
    "    sum = 0\n",
    "    for i in range(1, n+1):\n",
    "        sum = sum +(1/i**4)\n",
    "    return (sum*90)**0.25\n",
    "print(\"When n =      10, rho_n = \", '{:11f}'.format(rho_n(10)))\n",
    "print(\"When n =      10, tau_n = \", '{:11f}'.format(tau_n(10)))\n",
    "print(\"When n =      10,  mu_n = \", '{:11f}'.format(mu_n(10)))\n",
    "print(\"When n =     100, rho_n = \", '{:11f}'.format(rho_n(100)))\n",
    "print(\"When n =     100, tau_n = \", '{:11f}'.format(tau_n(100)))\n",
    "print(\"When n =     100,  mu_n = \", '{:11f}'.format(mu_n(100)))\n",
    "print(\"When n =    1000, rho_n = \", '{:11f}'.format(rho_n(1000)))\n",
    "print(\"When n =    1000, tau_n = \", '{:11f}'.format(tau_n(1000)))\n",
    "print(\"When n =    1000,  mu_n = \", '{:11f}'.format(mu_n(1000)))\n",
    "print(\"When n =   10000, rho_n = \", '{:11f}'.format(rho_n(10000)))\n",
    "print(\"When n =   10000, tau_n = \", '{:11f}'.format(tau_n(10000)))\n",
    "print(\"When n =   10000,  mu_n = \", '{:11f}'.format(mu_n(10000)))\n",
    "print(\"When n =  100000, rho_n = \", '{:11f}'.format(rho_n(100000)))\n",
    "print(\"When n =  100000, tau_n = \", '{:11f}'.format(tau_n(100000)))\n",
    "print(\"When n =  100000,  mu_n = \", '{:11f}'.format(mu_n(100000)))"
   ]
  },
  {
   "cell_type": "code",
   "execution_count": 63,
   "metadata": {
    "collapsed": false
   },
   "outputs": [],
   "source": []
  },
  {
   "cell_type": "code",
   "execution_count": null,
   "metadata": {
    "collapsed": true
   },
   "outputs": [],
   "source": []
  }
 ],
 "metadata": {
  "kernelspec": {
   "display_name": "Python 3",
   "language": "python",
   "name": "python3"
  },
  "language_info": {
   "codemirror_mode": {
    "name": "ipython",
    "version": 3
   },
   "file_extension": ".py",
   "mimetype": "text/x-python",
   "name": "python",
   "nbconvert_exporter": "python",
   "pygments_lexer": "ipython3",
   "version": "3.4.3"
  }
 },
 "nbformat": 4,
 "nbformat_minor": 0
}
