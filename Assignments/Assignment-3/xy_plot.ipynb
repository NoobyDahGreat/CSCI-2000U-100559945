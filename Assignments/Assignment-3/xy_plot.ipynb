{
 "cells": [
  {
   "cell_type": "code",
   "execution_count": 1,
   "metadata": {
    "collapsed": false
   },
   "outputs": [],
   "source": [
    "#Brad Gardiner\n",
    "#100559945\n",
    "import matplotlib.pyplot as plt\n",
    "import math\n",
    "with open('xy_points.dat') as f:#opens file\n",
    "    x = f.readline()#reads first line\n",
    "    y = f.readline()#reads second\n",
    "    xp = []\n",
    "    yp = []\n",
    "for i in x.split():#splits the line into different values then enters them into an array\n",
    "    xp.append(i)\n",
    "for i in y.split():\n",
    "    yp.append(i)\n",
    "\n",
    "\n",
    "plt.plot(xp, yp, 'ro')\n",
    "for i in range(0, len(xp)):\n",
    "    ##checks if its within given range\n",
    "    if (float(xp[i]) < -2 and (float(yp[i]) >= -5 and float(yp[i]) <=0)):\n",
    "        plt.plot(float(xp[i]), float(yp[i]), 'bo')\n",
    "    ##checks if its within circle\n",
    "    if (math.sqrt((float(xp[i]) - 0)**2 + (float(yp[i]) - 5)**2) <= 5 ):\n",
    "        plt.plot(float(xp[i]), float(yp[i]), 'go')\n",
    "plt.axis([-10, 10, -10, 10])\n",
    "plt.title('(100559945)', bbox={'facecolor':'0.8', 'pad':5})\n",
    "plt.show()\n",
    "\n",
    "    "
   ]
  },
  {
   "cell_type": "code",
   "execution_count": null,
   "metadata": {
    "collapsed": true
   },
   "outputs": [],
   "source": []
  }
 ],
 "metadata": {
  "kernelspec": {
   "display_name": "Python 3",
   "language": "python",
   "name": "python3"
  },
  "language_info": {
   "codemirror_mode": {
    "name": "ipython",
    "version": 3
   },
   "file_extension": ".py",
   "mimetype": "text/x-python",
   "name": "python",
   "nbconvert_exporter": "python",
   "pygments_lexer": "ipython3",
   "version": "3.4.3"
  }
 },
 "nbformat": 4,
 "nbformat_minor": 0
}
