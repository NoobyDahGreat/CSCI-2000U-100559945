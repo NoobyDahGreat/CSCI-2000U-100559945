{
 "cells": [
  {
   "cell_type": "code",
   "execution_count": 11,
   "metadata": {
    "collapsed": false
   },
   "outputs": [],
   "source": [
    "#Brad Gardiner\n",
    "#100559945\n",
    "import matplotlib.pyplot as plt\n",
    "##sets labels\n",
    "labels = 'USA', 'CHN', 'GBR', 'RUS', 'KOR', 'GER', 'FRA', 'ITA', 'HUN', 'AUS', 'OTHER'\n",
    "##sets number of medals\n",
    "sizes = [46, 38, 29, 24, 13, 11, 11, 8, 8, 7, 107]\n",
    "##sets colours to country\n",
    "colours = ['deepskyblue', 'red', 'gold', 'white', 'blue', 'yellow', 'lightblue', 'green', 'maroon', 'orange', 'brown']\n",
    "\n",
    "explode = (0, 0, 0, 0, 0, 0, 0, 0, 0, 0, 0)\n",
    "\n",
    "plt.pie(sizes, explode=explode, labels = labels, colors=colours)\n",
    "plt.title('2012 Olympic gold medals (100559945)', bbox={'facecolor':'0.8', 'pad':5})\n",
    "\n",
    "\n",
    "plt.axis('equal')\n",
    "plt.show()"
   ]
  },
  {
   "cell_type": "code",
   "execution_count": null,
   "metadata": {
    "collapsed": true
   },
   "outputs": [],
   "source": []
  }
 ],
 "metadata": {
  "kernelspec": {
   "display_name": "Python 3",
   "language": "python",
   "name": "python3"
  },
  "language_info": {
   "codemirror_mode": {
    "name": "ipython",
    "version": 3
   },
   "file_extension": ".py",
   "mimetype": "text/x-python",
   "name": "python",
   "nbconvert_exporter": "python",
   "pygments_lexer": "ipython3",
   "version": "3.4.3"
  }
 },
 "nbformat": 4,
 "nbformat_minor": 0
}
