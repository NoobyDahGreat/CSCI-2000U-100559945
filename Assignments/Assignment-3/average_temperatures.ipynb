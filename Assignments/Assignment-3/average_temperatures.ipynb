{
 "cells": [
  {
   "cell_type": "code",
   "execution_count": 1,
   "metadata": {
    "collapsed": false
   },
   "outputs": [],
   "source": [
    "#Brad Gardiner\n",
    "#100559945\n",
    "import matplotlib.pyplot as plt\n",
    "#Sets all given temperatures to their appropriate array\n",
    "with open('montreal_temperature_2012.dat') as f:\n",
    "    mon = []\n",
    "    for i in f:\n",
    "        mon.append(i)\n",
    "with open('toronto_temperature_2012.dat') as e:\n",
    "    tor = []\n",
    "    for i in e:\n",
    "        tor.append(i)\n",
    "with open('vancouver_temperature_2012.dat') as g:\n",
    "    van = []\n",
    "    for i in g:\n",
    "        van.append(i)\n",
    "months = [0, 1, 2, 3, 4, 5, 6, 7, 8, 9, 10, 11]\n",
    "labels = ['Jan', 'Feb', 'Mar', 'Apl', 'May', 'Jun', 'July', 'Aug', 'Sep', 'Oct', 'Nov', 'Dec']\n",
    "\n",
    "plt.plot(mon, 'red')\n",
    "plt.plot(tor, 'blue')\n",
    "plt.plot(van, 'green')\n",
    "\n",
    "plt.xticks(months, labels, rotation = 45)\n",
    "plt.ylabel('Average Temperature in Celcius')\n",
    "plt.xlabel('Month')\n",
    "plt.legend([' = Montreal', ' = Toronto', ' = Vancouver'], loc = 'upper left')\n",
    "plt.title('2012 Average Monthly Temperatures (100559945)', bbox={'facecolor':'0.8', 'pad':5})\n",
    "plt.show()"
   ]
  },
  {
   "cell_type": "code",
   "execution_count": null,
   "metadata": {
    "collapsed": true
   },
   "outputs": [],
   "source": []
  }
 ],
 "metadata": {
  "kernelspec": {
   "display_name": "Python 3",
   "language": "python",
   "name": "python3"
  },
  "language_info": {
   "codemirror_mode": {
    "name": "ipython",
    "version": 3
   },
   "file_extension": ".py",
   "mimetype": "text/x-python",
   "name": "python",
   "nbconvert_exporter": "python",
   "pygments_lexer": "ipython3",
   "version": "3.4.3"
  }
 },
 "nbformat": 4,
 "nbformat_minor": 0
}
